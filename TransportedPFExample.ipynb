{
 "cells": [
  {
   "cell_type": "code",
   "execution_count": 1,
   "metadata": {},
   "outputs": [],
   "source": [
    "from pflow.particle_filter import BootstrapFilter, ObservationBase, FilterState\n",
    "from pflow.optimal_transport.transportation_plan import Reweighting"
   ]
  },
  {
   "cell_type": "code",
   "execution_count": 2,
   "metadata": {},
   "outputs": [],
   "source": [
    "import torch"
   ]
  },
  {
   "cell_type": "code",
   "execution_count": 3,
   "metadata": {},
   "outputs": [],
   "source": [
    "import numpy as np"
   ]
  },
  {
   "cell_type": "code",
   "execution_count": 4,
   "metadata": {},
   "outputs": [],
   "source": [
    "class BrownianProposalMethod:\n",
    "    def __init__(self, lower_triang_chol):\n",
    "        locs = torch.zeros(lower_triang_chol.shape[0], requires_grad=False)\n",
    "        self._dist = torch.distributions.MultivariateNormal(locs, scale_tril=lower_triang_chol)\n",
    "        \n",
    "    def apply(self, state, _observation):\n",
    "        x = state.x\n",
    "        loc = x[:, 0]\n",
    "        vel = x[:, 1]\n",
    "        sample = self._dist.rsample((x.shape[0],))\n",
    "        vel_proposed = vel + sample[:, 1]\n",
    "        loc_proposed = loc + vel_proposed + sample[:, 0]\n",
    "        x_proposed = torch.stack([loc_proposed, vel_proposed], 1)\n",
    "        return FilterState(x=x_proposed, w=state.w, n=state.n, loglik=state.loglik)\n",
    "    \n",
    "class Observation(ObservationBase):\n",
    "    __slots__ = ['y']\n",
    "    def __init__(self, y):\n",
    "        self.y = y\n",
    "        \n",
    "class LikelihoodMethod:\n",
    "    def __init__(self, sigma):\n",
    "        self._dist = torch.distributions.Normal(loc=0., scale=sigma)\n",
    "        \n",
    "    def apply(self, state, observation):\n",
    "        distance = state.x[:, 0] - observation.y.unsqueeze(0)\n",
    "        log_probs = self._dist.log_prob(distance)\n",
    "        return log_probs.exp()\n",
    "        \n",
    "class SystematicResampling:\n",
    "    def apply(self, x, w):\n",
    "        u = torch.rand(())\n",
    "        n = x.shape[0]\n",
    "        probs = (torch.arange(n, dtype=w.dtype) + u) / n\n",
    "        cumsum = w.cumsum(0)\n",
    "        indices = np.searchsorted(cumsum.detach(), probs)\n",
    "        return x[indices, :], torch.full_like(w, 1/n)\n"
   ]
  },
  {
   "cell_type": "code",
   "execution_count": 5,
   "metadata": {},
   "outputs": [],
   "source": [
    "_ = torch.random.manual_seed(0)"
   ]
  },
  {
   "cell_type": "code",
   "execution_count": 6,
   "metadata": {},
   "outputs": [],
   "source": [
    "import math\n",
    "import random\n",
    "random.seed(42)"
   ]
  },
  {
   "cell_type": "code",
   "execution_count": 7,
   "metadata": {},
   "outputs": [],
   "source": [
    "def generate_sine(dt, seed=42):\n",
    "    random.seed(seed)\n",
    "    t = 0\n",
    "    while True:\n",
    "        yield math.sin(t) + (random.random()-0.5)/5.\n",
    "        t += dt"
   ]
  },
  {
   "cell_type": "code",
   "execution_count": 8,
   "metadata": {},
   "outputs": [],
   "source": [
    "dt = 0.1\n",
    "K = 100\n",
    "\n",
    "sine_gen = generate_sine(dt)"
   ]
  },
  {
   "cell_type": "code",
   "execution_count": 9,
   "metadata": {},
   "outputs": [],
   "source": [
    "def run_pf(lower, log_sigma):\n",
    "    n = 50\n",
    "    states = []\n",
    "    observations = []\n",
    "    initial_x = torch.zeros((n, 2), requires_grad=True)\n",
    "    initial_w = torch.full((n,), 1/n, requires_grad=True)\n",
    "    initial_log_lik = torch.tensor(0., requires_grad=True)\n",
    "    \n",
    "    lower = torch.zeros((2, 2), requires_grad=False)\n",
    "    tril_indices = torch.tril_indices(row=2, col=2, offset=0)\n",
    "    lower[tril_indices[0], tril_indices[1]] = flat\n",
    "\n",
    "    sigma = log_sigma.exp()\n",
    "    state = FilterState(x=initial_x, w=initial_w, n=n, loglik=initial_log_lik)\n",
    "    \n",
    "    boot = BootstrapFilter(proposal_method=BrownianProposalMethod(lower),\n",
    "                           likelihood_method=LikelihoodMethod(sigma), \n",
    "                           #reweighting_method=SystematicResampling(),\n",
    "                           reweighting_method=Reweighting(epsilon=0.1, scaling=0.9, reach = 0.1),  \n",
    "                           min_neff=0.5)\n",
    "    \n",
    "    for _ in range(K):\n",
    "        obs = Observation(torch.tensor(next(sine_gen), requires_grad=False))\n",
    "        state = boot.update(state, obs)\n",
    "        observations.append(obs)\n",
    "        states.append(state)\n",
    "        state = boot.predict(state, None)\n",
    "    return -state.loglik, states, observations"
   ]
  },
  {
   "cell_type": "code",
   "execution_count": 10,
   "metadata": {},
   "outputs": [],
   "source": [
    "log_sigma = torch.tensor(-1., requires_grad=True)\n",
    "flat = torch.tensor([0.1,0., 0.1], requires_grad=True)\n"
   ]
  },
  {
   "cell_type": "code",
   "execution_count": 11,
   "metadata": {},
   "outputs": [],
   "source": [
    "# with torch.autograd.detect_anomaly():\n",
    "res = run_pf(flat, log_sigma)"
   ]
  },
  {
   "cell_type": "code",
   "execution_count": 12,
   "metadata": {},
   "outputs": [
    {
     "data": {
      "text/plain": [
       "[<matplotlib.lines.Line2D at 0x1e9c36fee48>]"
      ]
     },
     "execution_count": 12,
     "metadata": {},
     "output_type": "execute_result"
    },
    {
     "data": {
      "image/png": "[encoded data removed]",
      "text/plain": [
       "<Figure size 432x288 with 1 Axes>"
      ]
     },
     "metadata": {
      "needs_background": "light"
     },
     "output_type": "display_data"
    }
   ],
   "source": [
    "import matplotlib.pyplot as plt\n",
    "%matplotlib inline\n",
    "# plt.plot([(l.x[:, 0] * l.w).detach().numpy().mean() for l in res[1]])\n",
    "plt.plot([l.y.detach().numpy().mean() for l in res[2]])\n",
    "plt.plot([(l.x[:, 0] * l.w).detach().numpy().sum() for l in res[1]])\n",
    "# plt.plot([(l.x[:, 1] * l.w / dt).detach().numpy().sum() for l in res[1]])"
   ]
  },
  {
   "cell_type": "code",
   "execution_count": null,
   "metadata": {},
   "outputs": [],
   "source": []
  },
  {
   "cell_type": "code",
   "execution_count": null,
   "metadata": {},
   "outputs": [],
   "source": []
  }
 ],
 "metadata": {
  "kernelspec": {
   "display_name": "Python 3",
   "language": "python",
   "name": "python3"
  },
  "language_info": {
   "codemirror_mode": {
    "name": "ipython",
    "version": 3
   },
   "file_extension": ".py",
   "mimetype": "text/x-python",
   "name": "python",
   "nbconvert_exporter": "python",
   "pygments_lexer": "ipython3",
   "version": "3.7.3"
  }
 },
 "nbformat": 4,
 "nbformat_minor": 4
}
