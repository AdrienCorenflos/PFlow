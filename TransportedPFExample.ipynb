{
 "cells": [
  {
   "cell_type": "code",
   "execution_count": 1,
   "metadata": {},
   "outputs": [],
   "source": [
    "from pflow.particle_filter import BootstrapFilter, ObservationBase, FilterState, LikelihoodMethodBase, ProposalMethodBase\n",
    "from pflow.optimal_transport.transportation_plan import Transport\n",
    "from pflow.resampling.systematic import SystematicResampling"
   ]
  },
  {
   "cell_type": "code",
   "execution_count": 2,
   "metadata": {},
   "outputs": [],
   "source": [
    "import pykalman"
   ]
  },
  {
   "cell_type": "code",
   "execution_count": 3,
   "metadata": {},
   "outputs": [],
   "source": [
    "import torch"
   ]
  },
  {
   "cell_type": "code",
   "execution_count": 4,
   "metadata": {},
   "outputs": [],
   "source": [
    "import numpy as np"
   ]
  },
  {
   "cell_type": "code",
   "execution_count": 504,
   "metadata": {},
   "outputs": [],
   "source": [
    "class BrownianProposalMethod(ProposalMethodBase):\n",
    "    def __init__(self, transition, lower_triang_chol):\n",
    "        self.transition = transition\n",
    "        locs = torch.zeros(lower_triang_chol.shape[0], requires_grad=False)\n",
    "        self._dist = torch.distributions.MultivariateNormal(locs, scale_tril=lower_triang_chol)\n",
    "        \n",
    "    def apply(self, state, _observation):\n",
    "        x = state.x\n",
    "        sample = self._dist.rsample((x.shape[0],))\n",
    "        x_proposed = ((self.transition @ state.x.T).T + sample)\n",
    "        return FilterState(x=x_proposed, logw=state.logw, n=state.n, loglik=state.loglik)\n",
    "    \n",
    "class Observation(ObservationBase):\n",
    "    __slots__ = ['y']\n",
    "    def __init__(self, y):\n",
    "        self.y = y\n",
    "        \n",
    "class LikelihoodMethod(LikelihoodMethodBase):\n",
    "    def __init__(self, obs_matrix, obs_cov_triang):\n",
    "        locs = torch.zeros(obs_cov_triang.shape[0], requires_grad=False)\n",
    "        self._obs_matrix = obs_matrix\n",
    "        self._dist = torch.distributions.MultivariateNormal(loc=locs, scale_tril=obs_cov_triang)\n",
    "        \n",
    "    def apply(self, state, observation, log=True):\n",
    "        distance = (self._obs_matrix @ state.x.T).T - observation.y.unsqueeze(0)\n",
    "        log_probs = self._dist.log_prob(distance)\n",
    "        if log:\n",
    "            return log_probs\n",
    "        else:\n",
    "            return log_probs.exp()\n",
    "        "
   ]
  },
  {
   "cell_type": "code",
   "execution_count": 505,
   "metadata": {},
   "outputs": [],
   "source": [
    "_ = torch.random.manual_seed(0)"
   ]
  },
  {
   "cell_type": "code",
   "execution_count": 506,
   "metadata": {},
   "outputs": [],
   "source": [
    "import math\n",
    "import random\n",
    "random.seed(42)"
   ]
  },
  {
   "cell_type": "code",
   "execution_count": 507,
   "metadata": {},
   "outputs": [],
   "source": [
    "def generate_sine(dt, seed=42):\n",
    "    random.seed(seed)\n",
    "    t = 0\n",
    "    while True:\n",
    "        yield math.sin(t) + (random.random()-0.5)/2., math.cos(t) + (random.random()-0.5)/2.\n",
    "        t += dt"
   ]
  },
  {
   "cell_type": "code",
   "execution_count": null,
   "metadata": {},
   "outputs": [],
   "source": []
  },
  {
   "cell_type": "code",
   "execution_count": 508,
   "metadata": {},
   "outputs": [],
   "source": [
    "dt = 0.1\n",
    "K = 100\n",
    "\n",
    "sine_gen = generate_sine(dt)\n",
    "\n",
    "def run_pf(flat, log_sigma, dt_init, seed=0):\n",
    "    n = 200\n",
    "    states = []\n",
    "    observations = []\n",
    "    \n",
    "    torch.random.manual_seed(seed)\n",
    "    \n",
    "    initial_dist = torch.distributions.MultivariateNormal(torch.tensor([0., 0.]), scale_tril=torch.tensor([[1., 0.], [0., 1.]]))\n",
    "    initial_x = initial_dist.rsample((n,)).clone()\n",
    "    initial_x.requires_grad=True\n",
    "    initial_w = torch.full((n,), 1/n, requires_grad=True)\n",
    "    initial_log_lik = torch.tensor(0., requires_grad=True)\n",
    "    \n",
    "    lower = torch.zeros((2, 2), requires_grad=False)\n",
    "    tril_indices = torch.tril_indices(row=2, col=2, offset=0)\n",
    "    lower[tril_indices[0], tril_indices[1]] = flat\n",
    "    \n",
    "    transition_matrix = torch.tensor([[1., 0.], [0., 1.]])\n",
    "    transition_matrix[0, 1] = dt_init\n",
    "    transition_matrix[1, 0] = -dt_init\n",
    "\n",
    "    sigma = log_sigma.exp()\n",
    "    obs_triang = torch.eye(2, requires_grad=False) * sigma\n",
    "    obs_matrix = torch.eye(2, requires_grad=False)\n",
    "    state = FilterState(x=initial_x, logw=initial_w.log(), n=n, loglik=initial_log_lik)\n",
    "    likelihood_method = LikelihoodMethod(obs_matrix, obs_triang)\n",
    "    boot = BootstrapFilter(proposal_method=BrownianProposalMethod(transition_matrix, lower),\n",
    "                           likelihood_method=likelihood_method, \n",
    "#                            reweighting_method=SystematicResampling(),\n",
    "                           reweighting_method=Transport(epsilon=0.15, scaling=0.9),\n",
    "                           min_neff=0.5)\n",
    "    \n",
    "    for i in range(K):\n",
    "        obs = Observation(torch.tensor(next(sine_gen), requires_grad=False))\n",
    "\n",
    "        state = boot.update(state, obs)\n",
    "        observations.append(obs)\n",
    "        states.append(state)\n",
    "        \n",
    "        state = boot.predict(state, None)\n",
    "    return -state.loglik, states, observations"
   ]
  },
  {
   "cell_type": "code",
   "execution_count": 509,
   "metadata": {},
   "outputs": [],
   "source": [
    "def get_kalman_lik(log_sigma, flat, data):\n",
    "    lower = torch.zeros((2, 2), requires_grad=False)\n",
    "    tril_indices = torch.tril_indices(row=2, col=2, offset=0)\n",
    "    lower[tril_indices[0], tril_indices[1]] = flat\n",
    "    \n",
    "    kf = pykalman.KalmanFilter(observation_covariance=[[np.exp(-2), 0.], [0., np.exp(-2)]], transition_covariance=[[0.01, 0.], [0., 0.01]])"
   ]
  },
  {
   "cell_type": "code",
   "execution_count": 516,
   "metadata": {},
   "outputs": [],
   "source": [
    "log_sigma = torch.tensor(-1., requires_grad=True)\n",
    "flat = torch.tensor([0.1,0., 0.1], requires_grad=True)\n",
    "dt_learn = torch.tensor(0., requires_grad=True)"
   ]
  },
  {
   "cell_type": "code",
   "execution_count": 517,
   "metadata": {},
   "outputs": [
    {
     "name": "stdout",
     "output_type": "stream",
     "text": [
      "tensor(0.1000, requires_grad=True)\n",
      "tensor(0.1015, requires_grad=True)\n",
      "tensor(0.0972, requires_grad=True)\n",
      "tensor(0.1094, requires_grad=True)\n",
      "tensor(0.0716, requires_grad=True)\n",
      "tensor(0.1187, requires_grad=True)\n",
      "tensor(0.0964, requires_grad=True)\n",
      "tensor(0.1142, requires_grad=True)\n",
      "tensor(0.1102, requires_grad=True)\n",
      "tensor(0.0876, requires_grad=True)\n"
     ]
    }
   ],
   "source": [
    "rms = torch.optim.RMSprop(params=[dt_learn], lr=0.01)\n",
    "for _ in range(10):\n",
    "    rms.zero_grad()\n",
    "    res = run_pf(flat, log_sigma, dt_learn)\n",
    "    res[0].backward()\n",
    "    rms.step()\n",
    "    print(dt_learn)"
   ]
  },
  {
   "cell_type": "code",
   "execution_count": 518,
   "metadata": {},
   "outputs": [],
   "source": [
    "observations = np.stack([l.y.detach().numpy() for l in res[2]], 0)"
   ]
  },
  {
   "cell_type": "code",
   "execution_count": 519,
   "metadata": {},
   "outputs": [],
   "source": [
    "kf1 = pykalman.KalmanFilter(observation_covariance=[[np.exp(-2), 0.], [0., np.exp(-2)]], transition_covariance=[[0.01, 0.], [0., 0.01]])"
   ]
  },
  {
   "cell_type": "code",
   "execution_count": 520,
   "metadata": {},
   "outputs": [],
   "source": [
    "kf2 = pykalman.KalmanFilter(observation_covariance=[[np.exp(-2), 0.], [0., np.exp(-2)]], transition_covariance=[[0.01, 0.], [0., 0.01]])"
   ]
  },
  {
   "cell_type": "code",
   "execution_count": 521,
   "metadata": {},
   "outputs": [
    {
     "data": {
      "text/plain": [
       "-66.902743985198"
      ]
     },
     "execution_count": 521,
     "metadata": {},
     "output_type": "execute_result"
    }
   ],
   "source": [
    "kf1.loglikelihood(observations)"
   ]
  },
  {
   "cell_type": "code",
   "execution_count": 522,
   "metadata": {},
   "outputs": [
    {
     "data": {
      "text/plain": [
       "0.0"
      ]
     },
     "execution_count": 522,
     "metadata": {},
     "output_type": "execute_result"
    }
   ],
   "source": [
    "(kf2.loglikelihood(observations) - kf1.loglikelihood(observations)) * 1e3"
   ]
  },
  {
   "cell_type": "code",
   "execution_count": 523,
   "metadata": {},
   "outputs": [
    {
     "data": {
      "text/plain": [
       "(-66.902743985198, tensor(26.8823, grad_fn=<NegBackward>))"
      ]
     },
     "execution_count": 523,
     "metadata": {},
     "output_type": "execute_result"
    }
   ],
   "source": [
    "kf2.loglikelihood(observations), res[0]"
   ]
  },
  {
   "cell_type": "code",
   "execution_count": 524,
   "metadata": {},
   "outputs": [],
   "source": [
    "exact_filter = kf.filter(observations)"
   ]
  },
  {
   "cell_type": "code",
   "execution_count": 525,
   "metadata": {},
   "outputs": [
    {
     "data": {
      "image/png": "[encoded data removed]",
      "text/plain": [
       "<Figure size 864x432 with 2 Axes>"
      ]
     },
     "metadata": {
      "needs_background": "light"
     },
     "output_type": "display_data"
    }
   ],
   "source": [
    "import matplotlib.pyplot as plt\n",
    "%matplotlib inline\n",
    "\n",
    "fig, axes = plt.subplots(nrows=2, ncols=1, figsize=(12, 6), sharex=True)\n",
    "\n",
    "axes[0].plot(exact_filter[0][:, 0].squeeze(), label='KF')\n",
    "axes[0].plot([l.y[0].detach().numpy().mean() for l in res[2]], label = 'real state')\n",
    "axes[0].plot([(l.x[:, 0] * l.w).detach().numpy().sum() for l in res[1]], label = 'filter')\n",
    "\n",
    "axes[1].plot(exact_filter[0][:, 1].squeeze(), label='KF')\n",
    "axes[1].plot([l.y[1].detach().numpy().mean() for l in res[2]], label = 'real state')\n",
    "axes[1].plot([(l.x[:, 1] * l.w).detach().numpy().sum() for l in res[1]], label = 'filter')\n",
    "\n",
    "\n",
    "\n",
    "_ = plt.legend()\n"
   ]
  },
  {
   "cell_type": "code",
   "execution_count": 461,
   "metadata": {},
   "outputs": [
    {
     "data": {
      "text/plain": [
       "(-69.43842299355744, tensor(-428.7426, grad_fn=<AddBackward0>))"
      ]
     },
     "execution_count": 461,
     "metadata": {},
     "output_type": "execute_result"
    }
   ],
   "source": [
    "kf.loglikelihood(observations), res[0]"
   ]
  },
  {
   "cell_type": "code",
   "execution_count": 314,
   "metadata": {},
   "outputs": [
    {
     "ename": "RuntimeError",
     "evalue": "Trying to backward through the graph a second time, but the buffers have already been freed. Specify retain_graph=True when calling backward the first time.",
     "output_type": "error",
     "traceback": [
      "\u001b[1;31m---------------------------------------------------------------------------\u001b[0m",
      "\u001b[1;31mRuntimeError\u001b[0m                              Traceback (most recent call last)",
      "\u001b[1;32m<ipython-input-314-35e8c3e64d37>\u001b[0m in \u001b[0;36m<module>\u001b[1;34m\u001b[0m\n\u001b[1;32m----> 1\u001b[1;33m \u001b[0mtorch\u001b[0m\u001b[1;33m.\u001b[0m\u001b[0mautograd\u001b[0m\u001b[1;33m.\u001b[0m\u001b[0mgrad\u001b[0m\u001b[1;33m(\u001b[0m\u001b[0mres\u001b[0m\u001b[1;33m[\u001b[0m\u001b[1;36m0\u001b[0m\u001b[1;33m]\u001b[0m\u001b[1;33m,\u001b[0m \u001b[1;33m[\u001b[0m\u001b[0mlog_sigma\u001b[0m\u001b[1;33m]\u001b[0m\u001b[1;33m)\u001b[0m\u001b[1;33m\u001b[0m\u001b[1;33m\u001b[0m\u001b[0m\n\u001b[0m",
      "\u001b[1;32mC:\\ProgramData\\Anaconda3\\lib\\site-packages\\torch\\autograd\\__init__.py\u001b[0m in \u001b[0;36mgrad\u001b[1;34m(outputs, inputs, grad_outputs, retain_graph, create_graph, only_inputs, allow_unused)\u001b[0m\n\u001b[0;32m    147\u001b[0m     return Variable._execution_engine.run_backward(\n\u001b[0;32m    148\u001b[0m         \u001b[0moutputs\u001b[0m\u001b[1;33m,\u001b[0m \u001b[0mgrad_outputs\u001b[0m\u001b[1;33m,\u001b[0m \u001b[0mretain_graph\u001b[0m\u001b[1;33m,\u001b[0m \u001b[0mcreate_graph\u001b[0m\u001b[1;33m,\u001b[0m\u001b[1;33m\u001b[0m\u001b[1;33m\u001b[0m\u001b[0m\n\u001b[1;32m--> 149\u001b[1;33m         inputs, allow_unused)\n\u001b[0m\u001b[0;32m    150\u001b[0m \u001b[1;33m\u001b[0m\u001b[0m\n\u001b[0;32m    151\u001b[0m \u001b[1;33m\u001b[0m\u001b[0m\n",
      "\u001b[1;31mRuntimeError\u001b[0m: Trying to backward through the graph a second time, but the buffers have already been freed. Specify retain_graph=True when calling backward the first time."
     ]
    }
   ],
   "source": [
    "torch.autograd.grad(res[0], [log_sigma])"
   ]
  },
  {
   "cell_type": "code",
   "execution_count": 124,
   "metadata": {},
   "outputs": [],
   "source": [
    "def weighted_avg_and_var(values, weights):\n",
    "    \"\"\"\n",
    "    Return the weighted average and standard deviation.\n",
    "\n",
    "    values, weights -- Numpy ndarrays with the same shape.\n",
    "    \"\"\"\n",
    "    average = np.average(values, weights=weights, axis=0)\n",
    "    # Fast and numerically precise:\n",
    "    variance = np.average((values-average)**2, weights=weights, axis=0)\n",
    "    return (average, variance)"
   ]
  },
  {
   "cell_type": "code",
   "execution_count": 125,
   "metadata": {},
   "outputs": [
    {
     "data": {
      "text/plain": [
       "(array([ 0.24417213, -0.9354718 ], dtype=float32),\n",
       " array([0.02939471, 0.04896374], dtype=float32))"
      ]
     },
     "execution_count": 125,
     "metadata": {},
     "output_type": "execute_result"
    }
   ],
   "source": [
    "weighted_avg_and_var(res[1][-2].x.detach().numpy(), res[1][-2].w.detach().numpy())"
   ]
  },
  {
   "cell_type": "code",
   "execution_count": 126,
   "metadata": {},
   "outputs": [
    {
     "data": {
      "text/plain": [
       "array([[0.03212617, 0.        ],\n",
       "       [0.        , 0.03212617]])"
      ]
     },
     "execution_count": 126,
     "metadata": {},
     "output_type": "execute_result"
    }
   ],
   "source": [
    "exact_filter[1][-2]"
   ]
  },
  {
   "cell_type": "code",
   "execution_count": 129,
   "metadata": {},
   "outputs": [
    {
     "data": {
      "text/plain": [
       "array([0.27250963, 0.80522926])"
      ]
     },
     "execution_count": 129,
     "metadata": {},
     "output_type": "execute_result"
    }
   ],
   "source": [
    "exact_filter[0][-2]"
   ]
  },
  {
   "cell_type": "code",
   "execution_count": null,
   "metadata": {},
   "outputs": [],
   "source": []
  }
 ],
 "metadata": {
  "kernelspec": {
   "display_name": "Python 3",
   "language": "python",
   "name": "python3"
  },
  "language_info": {
   "codemirror_mode": {
    "name": "ipython",
    "version": 3
   },
   "file_extension": ".py",
   "mimetype": "text/x-python",
   "name": "python",
   "nbconvert_exporter": "python",
   "pygments_lexer": "ipython3",
   "version": "3.7.3"
  }
 },
 "nbformat": 4,
 "nbformat_minor": 4
}
